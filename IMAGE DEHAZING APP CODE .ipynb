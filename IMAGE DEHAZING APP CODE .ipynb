{
 "cells": [
  {
   "cell_type": "code",
   "execution_count": 1,
   "id": "fe9445ad",
   "metadata": {},
   "outputs": [],
   "source": [
    "import os\n",
    "import cv2\n",
    "import image_dehazer\n",
    "from tkinter import *\n",
    "from tkinter import filedialog\n",
    "\n",
    "# Function to select a folder containing hazy images\n",
    "def select_folder():\n",
    "    global folder_path\n",
    "    folder_path = filedialog.askdirectory()\n",
    "\n",
    "# Function to select a folder to save the dehazed images\n",
    "def select_output_folder():\n",
    "    global output_folder_path\n",
    "    output_folder_path = filedialog.askdirectory()\n",
    "\n",
    "# Function to dehaze images in the selected folder\n",
    "def dehaze_images():\n",
    "    # Loop through each file in the folder\n",
    "    for filename in os.listdir(folder_path):\n",
    "        # Check if the file is an image\n",
    "        if filename.endswith(\".jpg\") or filename.endswith(\".png\"):\n",
    "            # Load the hazy image\n",
    "            hazy_image = cv2.imread(os.path.join(folder_path, filename))\n",
    "\n",
    "            # Dehaze the image\n",
    "            dehazed_image, _ = image_dehazer.remove_haze(hazy_image)\n",
    "\n",
    "            # Save the dehazed image to the output folder\n",
    "            cv2.imwrite(os.path.join(output_folder_path, \"dehazed_\" + filename), dehazed_image)\n",
    "\n",
    "    # Show a message box when the dehazing is complete\n",
    "    messagebox.showinfo(\"Dehazing Complete\", \"Dehazing is complete!\")\n",
    "\n",
    "# Create the main window\n",
    "root = Tk()\n",
    "root.title(\"Image Dehazer\")\n",
    "\n",
    "# Create a button to select the folder containing hazy images\n",
    "select_folder_button = Button(root, text=\"Select Folder\", command=select_folder)\n",
    "select_folder_button.pack()\n",
    "\n",
    "# Create a button to select the folder to save the dehazed images\n",
    "select_output_folder_button = Button(root, text=\"Select Output Folder\", command=select_output_folder)\n",
    "select_output_folder_button.pack()\n",
    "\n",
    "# Create a button to dehaze the images in the selected folder\n",
    "dehaze_button = Button(root, text=\"Dehaze Images\", command=dehaze_images)\n",
    "dehaze_button.pack()\n",
    "\n",
    "# Start the main loop\n",
    "root.mainloop()\n"
   ]
  },
  {
   "cell_type": "code",
   "execution_count": null,
   "id": "a09123b9",
   "metadata": {},
   "outputs": [],
   "source": []
  }
 ],
 "metadata": {
  "kernelspec": {
   "display_name": "Python 3 (ipykernel)",
   "language": "python",
   "name": "python3"
  },
  "language_info": {
   "codemirror_mode": {
    "name": "ipython",
    "version": 3
   },
   "file_extension": ".py",
   "mimetype": "text/x-python",
   "name": "python",
   "nbconvert_exporter": "python",
   "pygments_lexer": "ipython3",
   "version": "3.11.5"
  }
 },
 "nbformat": 4,
 "nbformat_minor": 5
}
